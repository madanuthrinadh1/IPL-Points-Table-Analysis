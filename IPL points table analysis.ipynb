{
 "cells": [
  {
   "cell_type": "code",
   "execution_count": 8,
   "id": "92dbd2ca",
   "metadata": {},
   "outputs": [],
   "source": [
    "from bs4 import BeautifulSoup\n",
    "import numpy as np\n",
    "import pandas as pd\n",
    "import matplotlib.pyplot as plt\n",
    "import requests"
   ]
  },
  {
   "cell_type": "code",
   "execution_count": 9,
   "id": "522c9023",
   "metadata": {},
   "outputs": [],
   "source": [
    "page = requests.get(\"https://www.cricbuzz.com/cricket-series/3130/indian-premier-league-2020/points-table\")"
   ]
  },
  {
   "cell_type": "code",
   "execution_count": 10,
   "id": "17ff7c02",
   "metadata": {},
   "outputs": [],
   "source": [
    "soup = BeautifulSoup(page.text)"
   ]
  },
  {
   "cell_type": "code",
   "execution_count": 4,
   "id": "42a74ee0",
   "metadata": {},
   "outputs": [
    {
     "name": "stdout",
     "output_type": "stream",
     "text": [
      "['Mat', 'Won', 'Lost', 'Tied', 'NR', 'pts']\n",
      "['Mumbai Indians', 'Delhi Capitals', 'Sunrisers Hyderabad', 'Royal Challengers Bengaluru', 'Kolkata Knight Riders', 'Punjab Kings', 'Chennai Super Kings', 'Rajasthan Royals']\n",
      "['14', '9', '5', '0', '0', '18', '+1.107', '14', '8', '6', '0', '0', '16', '-0.109', '14', '7', '7', '0', '0', '14', '+0.608', '14', '7', '7', '0', '0', '14', '-0.172', '14', '7', '7', '0', '0', '14', '-0.214', '14', '6', '8', '0', '0', '12', '-0.162', '14', '6', '8', '0', '0', '12', '-0.455', '14', '6', '8', '0', '0', '12', '-0.569']\n"
     ]
    }
   ],
   "source": [
    "tbl = soup.find(\"table\",class_='table cb-srs-pnts')\n",
    "\n",
    "col_names = [x.get_text() for x in tbl.find_all('td',class_=\"cb-srs-pnts-th\")]\n",
    "col_names[5]='pts'\n",
    "team_names = [x.get_text() for x in tbl.find_all('td',class_=\"cb-srs-pnts-name\")]\n",
    "pnt_tbl = [x.get_text() for x in tbl.find_all('td',class_=\"cb-srs-pnts-td\")]\n",
    "print(col_names)\n",
    "print(team_names)\n",
    "print(pnt_tbl)"
   ]
  },
  {
   "cell_type": "code",
   "execution_count": 5,
   "id": "97871659",
   "metadata": {},
   "outputs": [
    {
     "name": "stdout",
     "output_type": "stream",
     "text": [
      "after 1\n",
      " [['14' '9' '5' '0' '0' '18' '+1.107']\n",
      " ['14' '8' '6' '0' '0' '16' '-0.109']\n",
      " ['14' '7' '7' '0' '0' '14' '+0.608']\n",
      " ['14' '7' '7' '0' '0' '14' '-0.172']\n",
      " ['14' '7' '7' '0' '0' '14' '-0.214']\n",
      " ['14' '6' '8' '0' '0' '12' '-0.162']\n",
      " ['14' '6' '8' '0' '0' '12' '-0.455']\n",
      " ['14' '6' '8' '0' '0' '12' '-0.569']]\n",
      "after 2\n",
      " [['14' '9' '5' '0' '0' '18']\n",
      " ['14' '8' '6' '0' '0' '16']\n",
      " ['14' '7' '7' '0' '0' '14']\n",
      " ['14' '7' '7' '0' '0' '14']\n",
      " ['14' '7' '7' '0' '0' '14']\n",
      " ['14' '6' '8' '0' '0' '12']\n",
      " ['14' '6' '8' '0' '0' '12']\n",
      " ['14' '6' '8' '0' '0' '12']]\n",
      "after 3\n",
      " [[14  9  5  0  0 18]\n",
      " [14  8  6  0  0 16]\n",
      " [14  7  7  0  0 14]\n",
      " [14  7  7  0  0 14]\n",
      " [14  7  7  0  0 14]\n",
      " [14  6  8  0  0 12]\n",
      " [14  6  8  0  0 12]\n",
      " [14  6  8  0  0 12]]\n",
      "Teams                        Mat  Won  Lost  Tied  NR  pts\n",
      "Mumbai Indians                14    9     5     0   0   18\n",
      "Delhi Capitals                14    8     6     0   0   16\n",
      "Sunrisers Hyderabad           14    7     7     0   0   14\n",
      "Royal Challengers Bengaluru   14    7     7     0   0   14\n",
      "Kolkata Knight Riders         14    7     7     0   0   14\n",
      "Punjab Kings                  14    6     8     0   0   12\n",
      "Chennai Super Kings           14    6     8     0   0   12\n",
      "Rajasthan Royals              14    6     8     0   0   12\n"
     ]
    }
   ],
   "source": [
    "np_pnt_tbl = (np.array(pnt_tbl)).reshape(len(team_names),7)\n",
    "print(\"after 1\\n\",np_pnt_tbl)\n",
    "np_pnt_tbl = np.delete(np_pnt_tbl,6,1)\n",
    "print(\"after 2\\n\",np_pnt_tbl)\n",
    "np_pnt_tbl = np_pnt_tbl.astype(int)\n",
    "print(\"after 3\\n\",np_pnt_tbl)\n",
    "consol_tbl = pd.DataFrame(np_pnt_tbl,index=team_names,columns=col_names)\n",
    "consol_tbl.columns.name = \"Teams\"\n",
    "print(consol_tbl)"
   ]
  },
  {
   "cell_type": "code",
   "execution_count": 6,
   "id": "efceb259",
   "metadata": {},
   "outputs": [
    {
     "name": "stdout",
     "output_type": "stream",
     "text": [
      "['MI', 'DC', 'SH', 'RCB', 'KKR', 'PK', 'CSK', 'RR']\n"
     ]
    }
   ],
   "source": [
    "team_abr = []\n",
    "\n",
    "for team in team_names:\n",
    "    short_form = ''\n",
    "    for initial in team.split(' '):\n",
    "       short_form = short_form + initial[0]\n",
    "    team_abr.append(short_form)\n",
    "print(team_abr)"
   ]
  },
  {
   "cell_type": "code",
   "execution_count": 7,
   "id": "1dcaea1b",
   "metadata": {},
   "outputs": [
    {
     "data": {
      "image/png": "[encoded data removed]",
      "text/plain": [
       "<Figure size 640x480 with 1 Axes>"
      ]
     },
     "metadata": {},
     "output_type": "display_data"
    }
   ],
   "source": [
    "title = 'IPL Points table Bar graph of 2021'\n",
    "val_ticks = [1,2,3,4,5,6,7,8]\n",
    "lost_ticks=[1.4,2.4,3.4,4.4,5.4,6.4,7.4,8.4]\n",
    "\n",
    "plt.bar(val_ticks,np_pnt_tbl[:,1],width=0.4,color='y',alpha=0.8,label='Won')\n",
    "plt.bar(lost_ticks,np_pnt_tbl[:,2],width=0.4,color='b',alpha=0.8,label='Lost')\n",
    "plt.yticks(val_ticks)\n",
    "plt.ylabel(\"Number of matches\")\n",
    "plt.xticks(val_ticks,team_abr,rotation='vertical')\n",
    "plt.grid(False)\n",
    "plt.legend()\n",
    "plt.title(title)\n",
    "plt.show()"
   ]
  }
 ],
 "metadata": {
  "kernelspec": {
   "display_name": "Python 3 (ipykernel)",
   "language": "python",
   "name": "python3"
  },
  "language_info": {
   "codemirror_mode": {
    "name": "ipython",
    "version": 3
   },
   "file_extension": ".py",
   "mimetype": "text/x-python",
   "name": "python",
   "nbconvert_exporter": "python",
   "pygments_lexer": "ipython3",
   "version": "3.10.9"
  }
 },
 "nbformat": 4,
 "nbformat_minor": 5
}
